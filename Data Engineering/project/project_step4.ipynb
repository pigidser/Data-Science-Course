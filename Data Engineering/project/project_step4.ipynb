{
 "cells": [
  {
   "cell_type": "markdown",
   "metadata": {},
   "source": [
    "## Create a Spark session"
   ]
  },
  {
   "cell_type": "code",
   "execution_count": 14,
   "metadata": {},
   "outputs": [],
   "source": [
    "import os\n",
    "from pyspark.sql import SparkSession\n",
    "import pyspark.sql.functions as F\n",
    "\n",
    "os.environ[\"SPARK_HOME\"] = \"/usr/local/spark\"\n",
    "os.environ[\"PYSPARK_PYTHON\"] = \"/home/pigidser/anaconda3/bin/python3\"\n",
    "os.environ[\"PYSPARK_DRIVER_PYTHON\"] = \"python3\"\n",
    "os.environ[\"PYSPARK_SUBMIT_ARGS\"] = \"pyspark-shell\""
   ]
  },
  {
   "cell_type": "code",
   "execution_count": 15,
   "metadata": {},
   "outputs": [],
   "source": [
    "master = \"local\"\n",
    "spark = SparkSession.builder.master(master).appName(\"spark_test\").getOrCreate()"
   ]
  },
  {
   "cell_type": "markdown",
   "metadata": {},
   "source": [
    "## RAW --> STAGE"
   ]
  },
  {
   "cell_type": "code",
   "execution_count": 262,
   "metadata": {},
   "outputs": [],
   "source": [
    "! rm data/stage/*.*"
   ]
  },
  {
   "cell_type": "code",
   "execution_count": 263,
   "metadata": {},
   "outputs": [],
   "source": [
    "# transform json-files (capital, continent, currency, iso3, names, phone) to csv\n",
    "\n",
    "import json\n",
    "import csv\n",
    "import subprocess\n",
    "\n",
    "def transform_json_to_csv(file_name):\n",
    "    with open(\"data/raw/\"+file_name+\".json\",\"r\") as fp:\n",
    "        buf = fp.read()\n",
    "    data_dict = json.loads(buf)\n",
    "    \n",
    "    with open(\"data/stage/\"+file_name+\".csv\", 'w') as f:\n",
    "        for key in data_dict.keys():\n",
    "            f.write(\"%s,%s\\n\"%(key,data_dict[key]))\n",
    "\n",
    "files_to_process = ['capital','continent','currency','iso3','names', 'phone']\n",
    "for file in files_to_process:\n",
    "    transform_json_to_csv(file)"
   ]
  },
  {
   "cell_type": "code",
   "execution_count": 307,
   "metadata": {},
   "outputs": [
    {
     "data": {
      "text/plain": [
       "<function TextIOWrapper.close()>"
      ]
     },
     "execution_count": 307,
     "metadata": {},
     "output_type": "execute_result"
    }
   ],
   "source": [
    "# countries_of_the_world.csv consists of comma in number as well as delimited character --> replace a comma with a point\n",
    "# also to remove multy-spaces\n",
    "\n",
    "import re\n",
    "\n",
    "with open(\"data/raw/countries_of_the_world.csv\",\"r\") as f_input:\n",
    "    with open('data/stage/country.csv', 'w') as f_output:\n",
    "        for result in f_input:\n",
    "            result = re.sub(r'\"(\\d+),(\\d+)\"', r'\\1.\\2', result) # find a comma between digits in quotes and replace to a point\n",
    "            result = re.sub(r'\\s+', r' ', result) # replace multi-space to single space\n",
    "            result = re.sub(r'\\s,', r',', result)\n",
    "            result = re.sub(r'\\s+\",', r'\",', result)\n",
    "            result = re.sub(r'\"\\s+', r'\"', result)\n",
    "            f_output.write(result+\"\\n\")\n",
    "f_input.close\n",
    "f_output.close\n",
    "\n",
    "with open(\"data/raw/nobel_laureates.csv\",\"r\") as f_input:\n",
    "    with open('data/stage/nobel_laureates.csv', 'w') as f_output:\n",
    "        for result in f_input:\n",
    "            result = re.sub(r'[\\\"]+','\"',result)\n",
    "            result = re.sub(r'\\s+', r' ', result)\n",
    "            result = re.sub(r'\\s,', r',', result)\n",
    "            f_output.write(result+\"\\n\")\n",
    "f_input.close\n",
    "f_output.close"
   ]
  },
  {
   "cell_type": "code",
   "execution_count": 265,
   "metadata": {},
   "outputs": [],
   "source": [
    "# Copy to the stage folder\n",
    "! cp data/raw/worldcitiespop.csv data/stage/"
   ]
  },
  {
   "cell_type": "markdown",
   "metadata": {},
   "source": [
    "Now we have next csv-files in the stage folder:\n",
    "- capital\n",
    "- continent\n",
    "- currency\n",
    "- iso3\n",
    "- names\n",
    "- phone\n",
    "- countries\n",
    "- nobel_laureates\n",
    "- worldcitiespop"
   ]
  },
  {
   "cell_type": "markdown",
   "metadata": {},
   "source": [
    "## Load data to Spark"
   ]
  },
  {
   "cell_type": "code",
   "execution_count": 438,
   "metadata": {},
   "outputs": [],
   "source": [
    "capital = spark.read.csv(\"data/stage/capital.csv\",schema=\"code string, capital string\",header=False)\n",
    "continent = spark.read.csv(\"data/stage/continent.csv\",schema=\"code string, continent string\",header=False)\n",
    "currency = spark.read.csv(\"data/stage/currency.csv\",schema=\"code string, currency string\",header=False)\n",
    "iso3 = spark.read.csv(\"data/stage/iso3.csv\",schema=\"code string, iso3 string\",header=False)\n",
    "names = spark.read.csv(\"data/stage/names.csv\",schema=\"code string, name string\",header=False)\n",
    "phone = spark.read.csv(\"data/stage/phone.csv\",schema=\"code string, phone string\",header=False)\n",
    "countries = spark.read.csv(\"data/stage/country.csv\",header=True)\n",
    "laureates = spark.read.csv(\"data/stage/nobel_laureates.csv\",header=True)\n",
    "worldcitiespop = spark.read.csv(\"data/stage/worldcitiespop.csv\",header=True)"
   ]
  },
  {
   "cell_type": "code",
   "execution_count": 439,
   "metadata": {},
   "outputs": [],
   "source": [
    "import re\n",
    "\n",
    "def standartize_column_name(rename_df):\n",
    "    for column in rename_df.columns:\n",
    "        new_column = re.sub(r'[\\.\\s\\(\\)\\/\\$\\%]+','_',column.lower().strip())\n",
    "        new_column = re.sub(r'[\\_]+','_',new_column)\n",
    "        new_column = re.sub(r'(\\S+)_\\b', r'\\1', new_column) # if name like abcdefgh_ remove \"_\"\n",
    "        rename_df = rename_df.withColumnRenamed(column, new_column)\n",
    "    return rename_df"
   ]
  },
  {
   "cell_type": "code",
   "execution_count": null,
   "metadata": {},
   "outputs": [],
   "source": [
    "country_properties = standartize_column_name(country_properties)\n",
    "countries = standartize_column_name(countries)\n",
    "laureates = standartize_column_name(laureates)\n",
    "worldcitiespop = standartize_column_name(worldcitiespop)"
   ]
  },
  {
   "cell_type": "markdown",
   "metadata": {},
   "source": [
    "## Data Mart preparation"
   ]
  },
  {
   "cell_type": "code",
   "execution_count": 441,
   "metadata": {},
   "outputs": [],
   "source": [
    "# joining by a key field (with the same name) to get only one key field in the result dataframe\n",
    "country_properties = capital.join(continent, 'code')\\\n",
    "    .join(currency, 'code')\\\n",
    "    .join(iso3, 'code')\\\n",
    "    .join(names, 'code')\\\n",
    "    .join(phone, 'code')\n",
    "\n",
    "countries = countries\\\n",
    "    .join(country_properties.select('code','capital','continent','currency','iso3','name','phone'),countries['country']==country_properties['name'],'left')\\\n",
    "    .drop(\"name\")\n",
    "\n",
    "nobel_laureates = laureates.select('laureate_id','category','laureate_type','full_name','birth_date',\n",
    "    'birth_city','birth_country','sex','organization_name','organization_city','organization_country',\n",
    "    'death_date','death_city','death_country')\n",
    "\n",
    "nobel_prizes = laureates.select(\"year\",\"prize\",\"motivation\",\"prize_share\",\"laureate_id\")\n",
    "\n",
    "cities = worldcitiespop.drop(\"region\")\n",
    "\n",
    "nobel_prizes.show(1)\n",
    "nobel_laureates.show(1)\n",
    "countries.show(1)\n",
    "cities.show(1)"
   ]
  },
  {
   "cell_type": "markdown",
   "metadata": {},
   "source": [
    "## Dataset preparation"
   ]
  },
  {
   "cell_type": "code",
   "execution_count": null,
   "metadata": {},
   "outputs": [],
   "source": [
    "nobel_prizes_dataset = nobel_prizes.join(nobel_laureates, 'laureate_id')\n",
    "countries_dataset = countries\n",
    "\n",
    "nobel_prizes_dataset.show(1)\n",
    "countries_dataset.show(1)"
   ]
  },
  {
   "cell_type": "code",
   "execution_count": 461,
   "metadata": {},
   "outputs": [
    {
     "name": "stdout",
     "output_type": "stream",
     "text": [
      "+-------+------------------+----------+----------+---------------------+--------------------------+-------------+--------------------------------+--------------+--------+---------------+------+-----+-----+-------+---------+---------+-----------+--------+-------+----+---------+---------+--------+----+-----+\n",
      "|country|            region|population|area_sq_mi|pop_density_per_sq_mi|coastline_coast_area_ratio|net_migration|infant_mortality_per_1000_births|gdp_per_capita|literacy|phones_per_1000|arable|crops|other|climate|birthrate|deathrate|agriculture|industry|service|code|  capital|continent|currency|iso3|phone|\n",
      "+-------+------------------+----------+----------+---------------------+--------------------------+-------------+--------------------------------+--------------+--------+---------------+------+-----+-----+-------+---------+---------+-----------+--------+-------+----+---------+---------+--------+----+-----+\n",
      "|   Chad|SUB-SAHARAN AFRICA|   9944201|   1284000|                  7.7|                      0.00|        -0,11|                           93.82|          1200|    47.5|            1.3|  2.86| 0.02|97.12|      2|    45.73|    16.38|      0.335|   0.259| 0.406 |  TD|N'Djamena|       AF|     XAF| TCD|  235|\n",
      "+-------+------------------+----------+----------+---------------------+--------------------------+-------------+--------------------------------+--------------+--------+---------------+------+-----+-----+-------+---------+---------+-----------+--------+-------+----+---------+---------+--------+----+-----+\n",
      "only showing top 1 row\n",
      "\n"
     ]
    }
   ],
   "source": [
    "countries.show(1)\n"
   ]
  }
 ],
 "metadata": {
  "kernelspec": {
   "display_name": "Python 3",
   "language": "python",
   "name": "python3"
  },
  "language_info": {
   "codemirror_mode": {
    "name": "ipython",
    "version": 3
   },
   "file_extension": ".py",
   "mimetype": "text/x-python",
   "name": "python",
   "nbconvert_exporter": "python",
   "pygments_lexer": "ipython3",
   "version": "3.7.6"
  }
 },
 "nbformat": 4,
 "nbformat_minor": 4
}
