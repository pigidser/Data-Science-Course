{
 "cells": [
  {
   "cell_type": "code",
   "execution_count": 1,
   "metadata": {},
   "outputs": [],
   "source": [
    "import os\n",
    "from pyspark.sql import SparkSession\n",
    "\n",
    "os.environ[\"SPARK_HOME\"] = \"/usr/local/spark\"\n",
    "os.environ[\"PYSPARK_PYTHON\"] = \"/home/pigidser/anaconda3/bin/python3\"\n",
    "os.environ[\"PYSPARK_DRIVER_PYTHON\"] = \"python3\"\n",
    "os.environ[\"PYSPARK_SUBMIT_ARGS\"] = \"pyspark-shell\""
   ]
  },
  {
   "cell_type": "code",
   "execution_count": 2,
   "metadata": {},
   "outputs": [],
   "source": [
    "master = \"local\"\n",
    "spark = SparkSession.builder.master(master).appName(\"spark_test\").getOrCreate()"
   ]
  },
  {
   "cell_type": "code",
   "execution_count": 3,
   "metadata": {},
   "outputs": [],
   "source": [
    "# Load data from csv-file\n",
    "df_movies = spark.read.format(\"csv\") \\\n",
    "    .option(\"mode\", \"FAILFAST\") \\\n",
    "    .option(\"inferSchema\", \"true\") \\\n",
    "    .option(\"header\",\"true\") \\\n",
    "    .option(\"path\", \"movies.csv\") \\\n",
    "    .load()"
   ]
  },
  {
   "cell_type": "code",
   "execution_count": 4,
   "metadata": {},
   "outputs": [
    {
     "name": "stdout",
     "output_type": "stream",
     "text": [
      "+-------+--------------------+--------------------+\n",
      "|movieId|               title|              genres|\n",
      "+-------+--------------------+--------------------+\n",
      "|      1|    Toy Story (1995)|Adventure|Animati...|\n",
      "|      2|      Jumanji (1995)|Adventure|Childre...|\n",
      "|      3|Grumpier Old Men ...|      Comedy|Romance|\n",
      "+-------+--------------------+--------------------+\n",
      "only showing top 3 rows\n",
      "\n"
     ]
    }
   ],
   "source": [
    "df_movies.show(3)"
   ]
  },
  {
   "cell_type": "code",
   "execution_count": 5,
   "metadata": {
    "scrolled": false
   },
   "outputs": [],
   "source": [
    "# Load data from csv-file\n",
    "df_json = spark.read.format(\"json\") \\\n",
    "    .option(\"inferSchema\", \"true\") \\\n",
    "    .option(\"path\", \"example_4.json\") \\\n",
    "    .load()"
   ]
  },
  {
   "cell_type": "code",
   "execution_count": 6,
   "metadata": {},
   "outputs": [
    {
     "name": "stdout",
     "output_type": "stream",
     "text": [
      "+-------+--------------------+\n",
      "|   name|                wins|\n",
      "+-------+--------------------+\n",
      "|Gilbert|[[straight, 7♣], ...|\n",
      "|  Alexa|[[two pair, 4♠], ...|\n",
      "|    May|                  []|\n",
      "|Deloise|[[three of a kind...|\n",
      "+-------+--------------------+\n",
      "\n"
     ]
    }
   ],
   "source": [
    "# Show firs n rows\n",
    "df_json.show(5)"
   ]
  },
  {
   "cell_type": "code",
   "execution_count": 7,
   "metadata": {
    "scrolled": true
   },
   "outputs": [
    {
     "name": "stdout",
     "output_type": "stream",
     "text": [
      "root\n",
      " |-- movieId: integer (nullable = true)\n",
      " |-- title: string (nullable = true)\n",
      " |-- genres: string (nullable = true)\n",
      "\n"
     ]
    }
   ],
   "source": [
    "# Show scheme of a file\n",
    "df_movies.printSchema()"
   ]
  },
  {
   "cell_type": "code",
   "execution_count": 8,
   "metadata": {},
   "outputs": [
    {
     "name": "stdout",
     "output_type": "stream",
     "text": [
      "+---+---+---+---+---+---+---+---+---+---+---+---+---+---+---+---+---+---+---+---+---+---+---+---+---+---+---+---+---+---+---+---+---+---+---+---+---+---+---+---+---+---+---+---+---+---+---+---+---+---+---+---+---+---+---+---+---+---+---+---+---+---+---+---+---+---+---+---+---+---+---+---+---+---+---+---+---+---+---+---+---+---+---+---+---+---+---+---+---+---+---+---+---+---+---+---+---+---+---+---+---+---+---+---+---+---+---+---+---+---+---+---+---+---+---+---+---+---+---+---+---+---+---+---+---+---+---+---+---+---+---+---+---+---+---+---+---+---+---+---+---+---+---+---+---+---+---+---+---+---+---+---+---+---+---+---+---+---+---+---+---+---+---+---+---+---+---+---+---+---+---+---+---+---+---+---+---+---+---+---+---+---+---+---+---+---+---+---+---+---+---+---+---+---+---+---+---+---+---+---+---+---+---+---+---+---+---+---+---+---+---+---+---+---+---+---+---+---+---+---+---+---+---+---+---+---+---+---+---+---+---+---+---+---+---+---+---+---+---+---+---+---+---+---+---+---+---+---+---+---+\n",
      "| AD| AE| AF| AG| AI| AL| AM| AO| AQ| AR| AS| AT| AU| AW| AX| AZ| BA| BB| BD| BE| BF| BG| BH| BI| BJ| BL| BM| BN| BO| BQ| BR| BS| BT| BV| BW| BY| BZ| CA| CC| CD| CF| CG| CH| CI| CK| CL| CM| CN| CO| CR| CU| CV| CW| CX| CY| CZ| DE| DJ| DK| DM| DO| DZ| EC| EE| EG| EH| ER| ES| ET| FI| FJ| FK| FM| FO| FR| GA| GB| GD| GE| GF| GG| GH| GI| GL| GM| GN| GP| GQ| GR| GS| GT| GU| GW| GY| HK| HM| HN| HR| HT| HU| ID| IE| IL| IM| IN| IO| IQ| IR| IS| IT| JE| JM| JO| JP| KE| KG| KH| KI| KM| KN| KP| KR| KW| KY| KZ| LA| LB| LC| LI| LK| LR| LS| LT| LU| LV| LY| MA| MC| MD| ME| MF| MG| MH| MK| ML| MM| MN| MO| MP| MQ| MR| MS| MT| MU| MV| MW| MX| MY| MZ| NA| NC| NE| NF| NG| NI| NL| NO| NP| NR| NU| NZ| OM| PA| PE| PF| PG| PH| PK| PL| PM| PN| PR| PS| PT| PW| PY| QA| RE| RO| RS| RU| RW| SA| SB| SC| SD| SE| SG| SH| SI| SJ| SK| SL| SM| SN| SO| SR| SS| ST| SV| SX| SY| SZ| TC| TD| TF| TG| TH| TJ| TK| TL| TM| TN| TO| TR| TT| TV| TW| TZ| UA| UG| UM| US| UY| UZ| VA| VC| VE| VG| VI| VN| VU| WF| WS| XK| YE| YT| ZA| ZM| ZW|\n",
      "+---+---+---+---+---+---+---+---+---+---+---+---+---+---+---+---+---+---+---+---+---+---+---+---+---+---+---+---+---+---+---+---+---+---+---+---+---+---+---+---+---+---+---+---+---+---+---+---+---+---+---+---+---+---+---+---+---+---+---+---+---+---+---+---+---+---+---+---+---+---+---+---+---+---+---+---+---+---+---+---+---+---+---+---+---+---+---+---+---+---+---+---+---+---+---+---+---+---+---+---+---+---+---+---+---+---+---+---+---+---+---+---+---+---+---+---+---+---+---+---+---+---+---+---+---+---+---+---+---+---+---+---+---+---+---+---+---+---+---+---+---+---+---+---+---+---+---+---+---+---+---+---+---+---+---+---+---+---+---+---+---+---+---+---+---+---+---+---+---+---+---+---+---+---+---+---+---+---+---+---+---+---+---+---+---+---+---+---+---+---+---+---+---+---+---+---+---+---+---+---+---+---+---+---+---+---+---+---+---+---+---+---+---+---+---+---+---+---+---+---+---+---+---+---+---+---+---+---+---+---+---+---+---+---+---+---+---+---+---+---+---+---+---+---+---+---+---+---+---+---+\n",
      "| EU| AS| AS| NA| NA| EU| AS| AF| AN| SA| OC| EU| OC| NA| EU| AS| EU| NA| AS| EU| AF| EU| AS| AF| AF| NA| NA| AS| SA| NA| SA| NA| AS| AN| AF| EU| NA| NA| AS| AF| AF| AF| EU| AF| OC| SA| AF| AS| SA| NA| NA| AF| NA| AS| EU| EU| EU| AF| EU| NA| NA| AF| SA| EU| AF| AF| AF| EU| AF| EU| OC| SA| OC| EU| EU| AF| EU| NA| AS| SA| EU| AF| EU| NA| AF| AF| NA| AF| EU| AN| NA| OC| AF| SA| AS| AN| NA| EU| NA| EU| AS| EU| AS| EU| AS| AS| AS| AS| EU| EU| EU| NA| AS| AS| AF| AS| AS| OC| AF| NA| AS| AS| AS| NA| AS| AS| AS| NA| EU| AS| AF| AF| EU| EU| EU| AF| AF| EU| EU| EU| NA| AF| OC| EU| AF| AS| AS| AS| OC| NA| AF| NA| EU| AF| AS| AF| NA| AS| AF| AF| OC| AF| OC| AF| NA| EU| EU| AS| OC| OC| OC| AS| NA| SA| OC| OC| AS| AS| EU| NA| OC| NA| AS| EU| OC| SA| AS| AF| EU| EU| EU| AF| AS| OC| AF| AF| EU| AS| AF| EU| EU| EU| AF| EU| AF| AF| SA| AF| AF| NA| NA| AS| AF| NA| AF| AN| AF| AS| AS| OC| OC| AS| AF| OC| AS| NA| OC| AS| AF| EU| AF| OC| NA| SA| AS| EU| NA| SA| NA| NA| AS| OC| OC| OC| EU| AS| AF| AF| AF| AF|\n",
      "+---+---+---+---+---+---+---+---+---+---+---+---+---+---+---+---+---+---+---+---+---+---+---+---+---+---+---+---+---+---+---+---+---+---+---+---+---+---+---+---+---+---+---+---+---+---+---+---+---+---+---+---+---+---+---+---+---+---+---+---+---+---+---+---+---+---+---+---+---+---+---+---+---+---+---+---+---+---+---+---+---+---+---+---+---+---+---+---+---+---+---+---+---+---+---+---+---+---+---+---+---+---+---+---+---+---+---+---+---+---+---+---+---+---+---+---+---+---+---+---+---+---+---+---+---+---+---+---+---+---+---+---+---+---+---+---+---+---+---+---+---+---+---+---+---+---+---+---+---+---+---+---+---+---+---+---+---+---+---+---+---+---+---+---+---+---+---+---+---+---+---+---+---+---+---+---+---+---+---+---+---+---+---+---+---+---+---+---+---+---+---+---+---+---+---+---+---+---+---+---+---+---+---+---+---+---+---+---+---+---+---+---+---+---+---+---+---+---+---+---+---+---+---+---+---+---+---+---+---+---+---+---+---+---+---+---+---+---+---+---+---+---+---+---+---+---+---+---+---+---+\n",
      "\n"
     ]
    }
   ],
   "source": [
    "# Load JSON\n",
    "df_cont = spark.read.format(\"json\") \\\n",
    "    .option(\"mode\", \"FAILFAST\") \\\n",
    "    .option(\"inferSchema\", \"true\") \\\n",
    "    .option(\"path\", \"continents.json\") \\\n",
    "    .load()\n",
    "df_cont.show(3)"
   ]
  },
  {
   "cell_type": "code",
   "execution_count": 10,
   "metadata": {},
   "outputs": [],
   "source": [
    "# Save dataframe to HDFS\n",
    "# CSV\n",
    "df_movies.write.format(\"csv\") \\\n",
    "    .mode(\"overwrite\") \\\n",
    "    .option(\"sep\", \"\\t\") \\\n",
    "    .save(\"new_movies.csv\")\n",
    "# JSON\n",
    "df_json.write.format(\"json\") \\\n",
    "    .mode(\"overwrite\") \\\n",
    "    .save(\"new_json.json\")"
   ]
  },
  {
   "cell_type": "code",
   "execution_count": 11,
   "metadata": {},
   "outputs": [],
   "source": [
    "spark.stop()"
   ]
  },
  {
   "cell_type": "code",
   "execution_count": null,
   "metadata": {},
   "outputs": [],
   "source": []
  }
 ],
 "metadata": {
  "kernelspec": {
   "display_name": "Python 3",
   "language": "python",
   "name": "python3"
  },
  "language_info": {
   "codemirror_mode": {
    "name": "ipython",
    "version": 3
   },
   "file_extension": ".py",
   "mimetype": "text/x-python",
   "name": "python",
   "nbconvert_exporter": "python",
   "pygments_lexer": "ipython3",
   "version": "3.7.6"
  }
 },
 "nbformat": 4,
 "nbformat_minor": 4
}
