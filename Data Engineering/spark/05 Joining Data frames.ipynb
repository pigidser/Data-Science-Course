{
 "cells": [
  {
   "cell_type": "code",
   "execution_count": 1,
   "metadata": {},
   "outputs": [],
   "source": [
    "import os\n",
    "from pyspark.sql import SparkSession\n",
    "import pyspark.sql.functions as F\n",
    "\n",
    "os.environ[\"SPARK_HOME\"] = \"/usr/local/spark\"\n",
    "os.environ[\"PYSPARK_PYTHON\"] = \"/home/pigidser/anaconda3/bin/python3\"\n",
    "os.environ[\"PYSPARK_DRIVER_PYTHON\"] = \"python3\"\n",
    "os.environ[\"PYSPARK_SUBMIT_ARGS\"] = \"pyspark-shell\"\n",
    "\n",
    "spark = SparkSession.builder.master(\"local\").appName(\"spark_test\").getOrCreate()"
   ]
  },
  {
   "cell_type": "code",
   "execution_count": 2,
   "metadata": {},
   "outputs": [],
   "source": [
    "# create two dataframes\n",
    "person = spark.createDataFrame([\n",
    "(0, \"Bill Chambers\", 0, [100]),\n",
    "(1, \"Matei Zaharia\", 1, [500, 250, 100]),\n",
    "(2, \"Michael Armbrust\", 1, [250, 100])]) \\\n",
    ".toDF(\"id\", \"name\", \"graduate_program\", \"spark_status\")\n",
    "\n",
    "graduateProgram = spark.createDataFrame([\n",
    "(0, \"Masters\", \"School of Information\", \"UC Berkeley\"),\n",
    "(2, \"Masters\", \"EECS\", \"UC Berkeley\"),\n",
    "(1, \"Ph.D.\", \"EECS\", \"UC Berkeley\")]) \\\n",
    ".toDF(\"id\", \"degree\", \"department\", \"school\")"
   ]
  },
  {
   "cell_type": "code",
   "execution_count": 3,
   "metadata": {},
   "outputs": [
    {
     "name": "stdout",
     "output_type": "stream",
     "text": [
      "+---+----------------+----------------+---------------+\n",
      "| id|            name|graduate_program|   spark_status|\n",
      "+---+----------------+----------------+---------------+\n",
      "|  0|   Bill Chambers|               0|          [100]|\n",
      "|  1|   Matei Zaharia|               1|[500, 250, 100]|\n",
      "|  2|Michael Armbrust|               1|     [250, 100]|\n",
      "+---+----------------+----------------+---------------+\n",
      "\n",
      "+---+-------+--------------------+-----------+\n",
      "| id| degree|          department|     school|\n",
      "+---+-------+--------------------+-----------+\n",
      "|  0|Masters|School of Informa...|UC Berkeley|\n",
      "|  2|Masters|                EECS|UC Berkeley|\n",
      "|  1|  Ph.D.|                EECS|UC Berkeley|\n",
      "+---+-------+--------------------+-----------+\n",
      "\n"
     ]
    }
   ],
   "source": [
    "person.show()\n",
    "graduateProgram.show()"
   ]
  },
  {
   "cell_type": "code",
   "execution_count": 4,
   "metadata": {},
   "outputs": [],
   "source": [
    "joinExpression = person[\"graduate_program\"] == graduateProgram['id']"
   ]
  },
  {
   "cell_type": "code",
   "execution_count": 5,
   "metadata": {},
   "outputs": [
    {
     "name": "stdout",
     "output_type": "stream",
     "text": [
      "+---+----------------+----------------+---------------+---+-------+--------------------+-----------+\n",
      "| id|            name|graduate_program|   spark_status| id| degree|          department|     school|\n",
      "+---+----------------+----------------+---------------+---+-------+--------------------+-----------+\n",
      "|  0|   Bill Chambers|               0|          [100]|  0|Masters|School of Informa...|UC Berkeley|\n",
      "|  1|   Matei Zaharia|               1|[500, 250, 100]|  1|  Ph.D.|                EECS|UC Berkeley|\n",
      "|  2|Michael Armbrust|               1|     [250, 100]|  1|  Ph.D.|                EECS|UC Berkeley|\n",
      "+---+----------------+----------------+---------------+---+-------+--------------------+-----------+\n",
      "\n"
     ]
    }
   ],
   "source": [
    "# Inner\n",
    "\n",
    "joinType = \"inner\"\n",
    "person.join(graduateProgram, joinExpression, joinType).show()"
   ]
  },
  {
   "cell_type": "code",
   "execution_count": 6,
   "metadata": {},
   "outputs": [
    {
     "name": "stdout",
     "output_type": "stream",
     "text": [
      "+----+----------------+----------------+---------------+---+-------+--------------------+-----------+\n",
      "|  id|            name|graduate_program|   spark_status| id| degree|          department|     school|\n",
      "+----+----------------+----------------+---------------+---+-------+--------------------+-----------+\n",
      "|   0|   Bill Chambers|               0|          [100]|  0|Masters|School of Informa...|UC Berkeley|\n",
      "|   1|   Matei Zaharia|               1|[500, 250, 100]|  1|  Ph.D.|                EECS|UC Berkeley|\n",
      "|   2|Michael Armbrust|               1|     [250, 100]|  1|  Ph.D.|                EECS|UC Berkeley|\n",
      "|null|            null|            null|           null|  2|Masters|                EECS|UC Berkeley|\n",
      "+----+----------------+----------------+---------------+---+-------+--------------------+-----------+\n",
      "\n"
     ]
    }
   ],
   "source": [
    "# Outer\n",
    "# появляются строки из правого фрейма, для которых нет ключей в левом\n",
    "\n",
    "joinType = \"outer\"\n",
    "person.join(graduateProgram, joinExpression, joinType).show()"
   ]
  },
  {
   "cell_type": "code",
   "execution_count": 7,
   "metadata": {},
   "outputs": [
    {
     "name": "stdout",
     "output_type": "stream",
     "text": [
      "+---+-------+--------------------+-----------+----+----------------+----------------+---------------+\n",
      "| id| degree|          department|     school|  id|            name|graduate_program|   spark_status|\n",
      "+---+-------+--------------------+-----------+----+----------------+----------------+---------------+\n",
      "|  0|Masters|School of Informa...|UC Berkeley|   0|   Bill Chambers|               0|          [100]|\n",
      "|  1|  Ph.D.|                EECS|UC Berkeley|   1|   Matei Zaharia|               1|[500, 250, 100]|\n",
      "|  1|  Ph.D.|                EECS|UC Berkeley|   2|Michael Armbrust|               1|     [250, 100]|\n",
      "|  2|Masters|                EECS|UC Berkeley|null|            null|            null|           null|\n",
      "+---+-------+--------------------+-----------+----+----------------+----------------+---------------+\n",
      "\n"
     ]
    }
   ],
   "source": [
    "# Left outer\n",
    "# поменяли местами датафреймы, теперь все строки из левого датафрейма показаны, не для всех нашлись ключи в правом\n",
    "\n",
    "joinType = \"left_outer\"\n",
    "graduateProgram.join(person, joinExpression, joinType).show()"
   ]
  },
  {
   "cell_type": "code",
   "execution_count": 8,
   "metadata": {},
   "outputs": [
    {
     "name": "stdout",
     "output_type": "stream",
     "text": [
      "+----+----------------+----------------+---------------+---+-------+--------------------+-----------+\n",
      "|  id|            name|graduate_program|   spark_status| id| degree|          department|     school|\n",
      "+----+----------------+----------------+---------------+---+-------+--------------------+-----------+\n",
      "|   0|   Bill Chambers|               0|          [100]|  0|Masters|School of Informa...|UC Berkeley|\n",
      "|   1|   Matei Zaharia|               1|[500, 250, 100]|  1|  Ph.D.|                EECS|UC Berkeley|\n",
      "|   2|Michael Armbrust|               1|     [250, 100]|  1|  Ph.D.|                EECS|UC Berkeley|\n",
      "|null|            null|            null|           null|  2|Masters|                EECS|UC Berkeley|\n",
      "+----+----------------+----------------+---------------+---+-------+--------------------+-----------+\n",
      "\n"
     ]
    }
   ],
   "source": [
    "# Right outer\n",
    "# ключи из правого датафрейма, не для всех нашлось соответствие в левом\n",
    "\n",
    "joinType = \"right_outer\"\n",
    "person.join(graduateProgram, joinExpression, joinType).show()"
   ]
  },
  {
   "cell_type": "code",
   "execution_count": 9,
   "metadata": {},
   "outputs": [
    {
     "name": "stdout",
     "output_type": "stream",
     "text": [
      "+---+-------+--------------------+-----------+\n",
      "| id| degree|          department|     school|\n",
      "+---+-------+--------------------+-----------+\n",
      "|  0|Masters|School of Informa...|UC Berkeley|\n",
      "|  1|  Ph.D.|                EECS|UC Berkeley|\n",
      "+---+-------+--------------------+-----------+\n",
      "\n"
     ]
    }
   ],
   "source": [
    "# Left semi\n",
    "# опять поменяли местами датафреймы. Остались только те программы (левый датафрейм),\n",
    "# для которых были соответствия в правом. Правого датафрейма нет (т.е. чисто работа со строками одного датафрейма).\n",
    "\n",
    "joinType = \"left_semi\"\n",
    "graduateProgram.join(person, joinExpression, joinType).show()"
   ]
  },
  {
   "cell_type": "code",
   "execution_count": null,
   "metadata": {},
   "outputs": [],
   "source": [
    "# Left anti\n",
    "# опять поменяли местами датафреймы. Остались только те программы (левый датафрейм),\n",
    "# для которых не было соответствия в правом. Правого датафрейма нет (т.е. чисто работа со строками одного датафрейма).\n",
    "\n",
    "joinType = \"left_anti\"\n",
    "graduateProgram.join(person, joinExpression, joinType).show()\n",
    "+---+-------+----------+-----------+\n",
    "| id| degree|department|     school|\n",
    "+---+-------+----------+-----------+\n",
    "|  2|Masters|      EECS|UC Berkeley|\n",
    "+---+-------+----------+-----------+"
   ]
  },
  {
   "cell_type": "code",
   "execution_count": 10,
   "metadata": {},
   "outputs": [
    {
     "name": "stdout",
     "output_type": "stream",
     "text": [
      "+---+-------+--------------------+-----------+\n",
      "| id| degree|          department|     school|\n",
      "+---+-------+--------------------+-----------+\n",
      "|  0|Masters|School of Informa...|UC Berkeley|\n",
      "|  2|Masters|                EECS|UC Berkeley|\n",
      "|  1|  Ph.D.|                EECS|UC Berkeley|\n",
      "|  0|Masters|School of Informa...|UC Berkeley|\n",
      "|  2|Masters|                EECS|UC Berkeley|\n",
      "|  1|  Ph.D.|                EECS|UC Berkeley|\n",
      "+---+-------+--------------------+-----------+\n",
      "\n"
     ]
    }
   ],
   "source": [
    "# Union\n",
    "# Просто добавим датафрейм в \"хвост\" себе же\n",
    "\n",
    "graduateProgram.union(graduateProgram).show()"
   ]
  },
  {
   "cell_type": "code",
   "execution_count": 11,
   "metadata": {},
   "outputs": [
    {
     "name": "stdout",
     "output_type": "stream",
     "text": [
      "+-------+-------+--------------------+-----------+\n",
      "|     id| degree|          department|     school|\n",
      "+-------+-------+--------------------+-----------+\n",
      "|      0|Masters|School of Informa...|UC Berkeley|\n",
      "|      2|Masters|                EECS|UC Berkeley|\n",
      "|      1|  Ph.D.|                EECS|UC Berkeley|\n",
      "|Masters|      0|School of Informa...|UC Berkeley|\n",
      "|Masters|      2|                EECS|UC Berkeley|\n",
      "|  Ph.D.|      1|                EECS|UC Berkeley|\n",
      "+-------+-------+--------------------+-----------+\n",
      "\n"
     ]
    }
   ],
   "source": [
    "# Поменяем местами колонки в добавляемом датафрейме - увидим, какая \"каша\" получилась.\n",
    "\n",
    "graduateProgram.union(graduateProgram.select(\"degree\",\"id\",\"department\",\"school\")).show()"
   ]
  },
  {
   "cell_type": "code",
   "execution_count": 12,
   "metadata": {},
   "outputs": [
    {
     "name": "stdout",
     "output_type": "stream",
     "text": [
      "+---+-------+--------------------+-----------+\n",
      "| id| degree|          department|     school|\n",
      "+---+-------+--------------------+-----------+\n",
      "|  0|Masters|School of Informa...|UC Berkeley|\n",
      "|  2|Masters|                EECS|UC Berkeley|\n",
      "|  1|  Ph.D.|                EECS|UC Berkeley|\n",
      "|  0|Masters|School of Informa...|UC Berkeley|\n",
      "|  2|Masters|                EECS|UC Berkeley|\n",
      "|  1|  Ph.D.|                EECS|UC Berkeley|\n",
      "+---+-------+--------------------+-----------+\n",
      "\n"
     ]
    }
   ],
   "source": [
    "# Если воспользоваться методом unionByName, то все будет корректно даже с переставленными колонками.\n",
    "\n",
    "graduateProgram.unionByName(graduateProgram.select(\"degree\",\"id\",\"department\",\"school\")).show()\n"
   ]
  },
  {
   "cell_type": "code",
   "execution_count": 13,
   "metadata": {},
   "outputs": [],
   "source": [
    "spark.stop()"
   ]
  },
  {
   "cell_type": "markdown",
   "metadata": {},
   "source": [
    "## SQL vs Spark"
   ]
  },
  {
   "cell_type": "code",
   "execution_count": null,
   "metadata": {},
   "outputs": [],
   "source": [
    "\"\"\"\n",
    "select con.contract_id as contract_id, con.date_insert as date_insert, con.date_sign as date_sign,\n",
    "    con.begin_date as begin_date, con.end_date as end_date, con.product_id as product_id,\n",
    "    con.channel_sale_id as channel_sale_id, con.contract_prev_id as contract_prev_id,\n",
    "    con.contract_option_id as contract_option_id, con.owner_subject_id as owner_subject_id,\n",
    "    con.contract_type_id as contract_type_id, cst.contract_status_type_id as status_type_id,\n",
    "    sbj.subject_type_id as subject_type_id, sbj.subject_name as subject_name, pp.birth_date as birth_date,\n",
    "    uv.hid_party as hid_party\n",
    "from kasko.contract con\n",
    "    join kasko.contract_status cst on cst.contract_status_id = con.contract_status_id\n",
    "    join kasko.subject sbj on sbj.subject_id = con.owner_subject_id\n",
    "    left join kasko.physical_person pp on pp.subject_id = con.owner_subject_id\n",
    "    left join kasko.united_view uv on uv.source_id = sbj.subject_id and uv.source_name = 'UNI'\n",
    "where department_id=3075\n",
    "\"\"\""
   ]
  },
  {
   "cell_type": "code",
   "execution_count": null,
   "metadata": {},
   "outputs": [],
   "source": [
    "# таблица contract\n",
    "qCon = \"\"\"\n",
    "select\n",
    "    contract_id as con_contract_id,\n",
    "    date_insert as con_date_insert,\n",
    "    date_sign as con_date_sign,\n",
    "    begin_date as con_begin_date,\n",
    "    end_date as con_end_date,\n",
    "    product_id as con_product_id,\n",
    "    channel_sale_id as con_channel_sale_id,\n",
    "    contract_prev_id as con_contract_prev_id,\n",
    "    contract_option_id as con_contract_option_id,\n",
    "    owner_subject_id as con_owner_subject_id,\n",
    "    contract_status_id as con_contract_status_id,\n",
    "    contract_type_id as con_contract_type_id\n",
    "from\n",
    "    kasko.contract\n",
    "where\n",
    "    department_id = 3075\n",
    "\"\"\"\n",
    "dfCon = sp.sql(qCon)\n",
    "\n",
    "# таблица contract_status\n",
    "qCStat = \"\"\"\n",
    "select \n",
    "    contract_status_id as cst_status_id,\n",
    "    contract_status_type_id as cst_status_type_id\n",
    "from\n",
    "    kasko.contract_status\n",
    "\"\"\"\n",
    "dfCStat = sp.sql(qCStat)\n",
    "\n",
    "# таблица subject\n",
    "qSubj = \"\"\"\n",
    "select\n",
    "    subject_id as sbj_subject_id,\n",
    "    subject_type_id as sbj_subject_type_id,\n",
    "    subject_name as sbj_subject_name\n",
    "from\n",
    "    kasko.subject\n",
    "\"\"\"\n",
    "dfSubj = sp.sql(qSubj)\n",
    "\n",
    "# таблица physical_person\n",
    "qPPers = \"\"\"\n",
    "select\n",
    "    subject_id as pp_subject_id,\n",
    "    birth_date as pp_birth_date\n",
    "from\n",
    "    kasko.physical_person\n",
    "\"\"\"\n",
    "dfPPers = sp.sql(qPPers)\n",
    "\n",
    "# таблица united_view\n",
    "qUView = \"\"\"\n",
    "select\n",
    "    source_id as uv_source_id,\n",
    "    hid_party as uv_hid_party\n",
    "from\n",
    "    kasko.united_view\n",
    "where\n",
    "    source_name = 'UNI'\n",
    "\"\"\"\n",
    "dfUView = sp.sql(qUView)\n",
    "\n",
    "# Все эти датафреймы нам могут понадобиться многократно (в нашем конвейере преобразований данных),\n",
    "# можно включить в них побольше колонок (на все случаи жизни).\n",
    "\n",
    "# Далее формулируем правила связывания датафреймов, это всего лишь выражения, которые показывают\n",
    "# как связаны между собой таблицы. Эти знания универсальны, могут быть унаследованы из схемы\n",
    "# реляционной базы данных.\n",
    "\n",
    "con_stat = f.col(\"cst_status_id\")==f.col(\"con_contract_status_id\")\n",
    "con_subj_own = f.col(\"con_owner_subject_id\")==f.col(\"sbj_subject_id\")\n",
    "con_ppers_own = f.col(\"con_owner_subject_id\")==f.col(\"pp_subject_id\")\n",
    "subj_uview = f.col(\"sbj_subject_id\")==f.col(\"uv_source_id\")\n",
    "\n",
    "# И, наконец, формулируем наш \"многостраничный\" запрос\n",
    "\n",
    "resDf = dfCon.join(dfSubj,con_subj_own,\"inner\")\\\n",
    "    .join(dfCStat,con_stat, \"inner\")\\\n",
    "    .join(dfPPers,con_ppers_own, \"left\")\\\n",
    "    .join(dfUView,subj_uview,\"left\")"
   ]
  },
  {
   "cell_type": "code",
   "execution_count": null,
   "metadata": {},
   "outputs": [],
   "source": []
  },
  {
   "cell_type": "code",
   "execution_count": null,
   "metadata": {},
   "outputs": [],
   "source": []
  }
 ],
 "metadata": {
  "kernelspec": {
   "display_name": "Python 3",
   "language": "python",
   "name": "python3"
  },
  "language_info": {
   "codemirror_mode": {
    "name": "ipython",
    "version": 3
   },
   "file_extension": ".py",
   "mimetype": "text/x-python",
   "name": "python",
   "nbconvert_exporter": "python",
   "pygments_lexer": "ipython3",
   "version": "3.7.6"
  }
 },
 "nbformat": 4,
 "nbformat_minor": 4
}
