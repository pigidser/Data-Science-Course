{
 "cells": [
  {
   "cell_type": "code",
   "execution_count": 1,
   "metadata": {},
   "outputs": [],
   "source": [
    "import os\n",
    "from pyspark.sql import SparkSession\n",
    "import pyspark.sql.functions as F\n",
    "\n",
    "os.environ[\"SPARK_HOME\"] = \"/usr/local/spark\"\n",
    "os.environ[\"PYSPARK_PYTHON\"] = \"/home/pigidser/anaconda3/bin/python3\"\n",
    "os.environ[\"PYSPARK_DRIVER_PYTHON\"] = \"python3\"\n",
    "os.environ[\"PYSPARK_SUBMIT_ARGS\"] = \"pyspark-shell\"\n",
    "\n",
    "spark = SparkSession.builder.master(\"local\").appName(\"spark_test\").getOrCreate()"
   ]
  },
  {
   "cell_type": "code",
   "execution_count": 2,
   "metadata": {},
   "outputs": [],
   "source": [
    "# load dataframe\n",
    "cdf = spark.read.format(\"csv\") \\\n",
    "    .option(\"mode\", \"FAILFAST\") \\\n",
    "    .option(\"inferSchema\", \"true\") \\\n",
    "    .option(\"header\",\"true\") \\\n",
    "    .option(\"path\", \"countries_of_the_world.csv\") \\\n",
    "    .load()"
   ]
  },
  {
   "cell_type": "code",
   "execution_count": 3,
   "metadata": {},
   "outputs": [],
   "source": [
    "cdf.createOrReplaceTempView(\"countries\")"
   ]
  },
  {
   "cell_type": "code",
   "execution_count": 4,
   "metadata": {},
   "outputs": [
    {
     "name": "stdout",
     "output_type": "stream",
     "text": [
      "+--------+\n",
      "|count(1)|\n",
      "+--------+\n",
      "|     227|\n",
      "+--------+\n",
      "\n"
     ]
    }
   ],
   "source": [
    "# Простой select\n",
    "\n",
    "spark.sql(\"select count(*) from countries\").show()"
   ]
  },
  {
   "cell_type": "code",
   "execution_count": 5,
   "metadata": {},
   "outputs": [
    {
     "name": "stdout",
     "output_type": "stream",
     "text": [
      "+--------------------+---------+-------+\n",
      "|            col_name|data_type|comment|\n",
      "+--------------------+---------+-------+\n",
      "|             Country|   string|   null|\n",
      "|              Region|   string|   null|\n",
      "|          Population|      int|   null|\n",
      "|      Area (sq. mi.)|      int|   null|\n",
      "|Pop. Density (per...|   string|   null|\n",
      "|Coastline (coast/...|   string|   null|\n",
      "|       Net migration|   string|   null|\n",
      "|Infant mortality ...|   string|   null|\n",
      "|  GDP ($ per capita)|      int|   null|\n",
      "|        Literacy (%)|   string|   null|\n",
      "|   Phones (per 1000)|   string|   null|\n",
      "|          Arable (%)|   string|   null|\n",
      "|           Crops (%)|   string|   null|\n",
      "|           Other (%)|   string|   null|\n",
      "|             Climate|   string|   null|\n",
      "|           Birthrate|   string|   null|\n",
      "|           Deathrate|   string|   null|\n",
      "|         Agriculture|   string|   null|\n",
      "|            Industry|   string|   null|\n",
      "|             Service|   string|   null|\n",
      "+--------------------+---------+-------+\n",
      "\n"
     ]
    }
   ],
   "source": [
    "# Информация о таблице\n",
    "\n",
    "spark.sql(\"describe table countries\").show()"
   ]
  },
  {
   "cell_type": "code",
   "execution_count": 6,
   "metadata": {},
   "outputs": [
    {
     "name": "stdout",
     "output_type": "stream",
     "text": [
      "+-----------------------------------+--------------+\n",
      "|region                             |length(region)|\n",
      "+-----------------------------------+--------------+\n",
      "|EASTERN EUROPE                     |35            |\n",
      "|OCEANIA                            |35            |\n",
      "|SUB-SAHARAN AFRICA                 |35            |\n",
      "|NORTHERN AMERICA                   |35            |\n",
      "|NEAR EAST                          |35            |\n",
      "|WESTERN EUROPE                     |35            |\n",
      "|BALTICS                            |35            |\n",
      "|ASIA (EX. NEAR EAST)               |29            |\n",
      "|NORTHERN AFRICA                    |35            |\n",
      "|C.W. OF IND. STATES                |20            |\n",
      "|LATIN AMER. & CARIB                |23            |\n",
      "+-----------------------------------+--------------+\n",
      "\n"
     ]
    }
   ],
   "source": [
    "# Что с пробелами\n",
    "# Посмотрим, как с пробелами в названиях стран и регионов\n",
    "\n",
    "spark.sql(\"select distinct region,length(region) from countries\").show(100,False)"
   ]
  },
  {
   "cell_type": "code",
   "execution_count": 8,
   "metadata": {},
   "outputs": [
    {
     "name": "stdout",
     "output_type": "stream",
     "text": [
      "+-------+--------------------+----------+\n",
      "|country|              region|population|\n",
      "+-------+--------------------+----------+\n",
      "|Russia |C.W. OF IND. STATES | 142893540|\n",
      "+-------+--------------------+----------+\n",
      "\n"
     ]
    }
   ],
   "source": [
    "# Поработаем смешанно - SQL + dataframe\n",
    "\n",
    "spark.sql(\"select country,region,population from countries\") \\\n",
    "    .filter(F.col('country').startswith('Russia')) \\\n",
    "    .show()"
   ]
  },
  {
   "cell_type": "code",
   "execution_count": 10,
   "metadata": {},
   "outputs": [
    {
     "name": "stdout",
     "output_type": "stream",
     "text": [
      "+--------------------+----------+\n",
      "|              Region|ncountries|\n",
      "+--------------------+----------+\n",
      "|SUB-SAHARAN AFRIC...|        51|\n",
      "|LATIN AMER. & CAR...|        45|\n",
      "|ASIA (EX. NEAR EA...|        28|\n",
      "|WESTERN EUROPE   ...|        28|\n",
      "|OCEANIA          ...|        21|\n",
      "|NEAR EAST        ...|        16|\n",
      "|EASTERN EUROPE   ...|        12|\n",
      "|C.W. OF IND. STATES |        12|\n",
      "|NORTHERN AFRICA  ...|         6|\n",
      "|NORTHERN AMERICA ...|         5|\n",
      "|BALTICS          ...|         3|\n",
      "+--------------------+----------+\n",
      "\n",
      "+--------------------+----------+\n",
      "|              region|ncountries|\n",
      "+--------------------+----------+\n",
      "|SUB-SAHARAN AFRIC...|        51|\n",
      "|LATIN AMER. & CAR...|        45|\n",
      "|ASIA (EX. NEAR EA...|        28|\n",
      "|WESTERN EUROPE   ...|        28|\n",
      "|OCEANIA          ...|        21|\n",
      "|NEAR EAST        ...|        16|\n",
      "|EASTERN EUROPE   ...|        12|\n",
      "|C.W. OF IND. STATES |        12|\n",
      "|NORTHERN AFRICA  ...|         6|\n",
      "|NORTHERN AMERICA ...|         5|\n",
      "|BALTICS          ...|         3|\n",
      "+--------------------+----------+\n",
      "\n",
      "== Physical Plan ==\n",
      "*(3) Sort [ncountries#190L DESC NULLS LAST], true, 0\n",
      "+- Exchange rangepartitioning(ncountries#190L DESC NULLS LAST, 200), true, [id=#168]\n",
      "   +- *(2) HashAggregate(keys=[Region#17], functions=[count(1)])\n",
      "      +- Exchange hashpartitioning(Region#17, 200), true, [id=#164]\n",
      "         +- *(1) HashAggregate(keys=[Region#17], functions=[partial_count(1)])\n",
      "            +- FileScan csv [Region#17] Batched: false, DataFilters: [], Format: CSV, Location: InMemoryFileIndex[file:/home/pigidser/Py/Data-Science-Course/Data Engineering/spark/countries_of_..., PartitionFilters: [], PushedFilters: [], ReadSchema: struct<Region:string>\n",
      "\n",
      "\n",
      "== Physical Plan ==\n",
      "*(3) Sort [ncountries#161L DESC NULLS LAST], true, 0\n",
      "+- Exchange rangepartitioning(ncountries#161L DESC NULLS LAST, 200), true, [id=#198]\n",
      "   +- *(2) HashAggregate(keys=[region#17], functions=[count(1)])\n",
      "      +- Exchange hashpartitioning(region#17, 200), true, [id=#194]\n",
      "         +- *(1) HashAggregate(keys=[region#17], functions=[partial_count(1)])\n",
      "            +- FileScan csv [Region#17] Batched: false, DataFilters: [], Format: CSV, Location: InMemoryFileIndex[file:/home/pigidser/Py/Data-Science-Course/Data Engineering/spark/countries_of_..., PartitionFilters: [], PushedFilters: [], ReadSchema: struct<Region:string>\n",
      "\n",
      "\n"
     ]
    }
   ],
   "source": [
    "# Logical plans\n",
    "# Посмотрим на логические планы выполнения SQL запроса и dataframe\n",
    "# и убедимся в их \"похожести\" (найти различия, конечно, можно, но они - косметические).\n",
    "\n",
    "sqlQ = spark.sql(\"select region,count(*) as ncountries from countries group by region order by ncountries desc\")\n",
    "dfQ = cdf.groupBy('Region').count().withColumnRenamed(\"count\",\"ncountries\").sort(F.desc('ncountries'))\n",
    "dfQ.show()\n",
    "sqlQ.show()\n",
    "dfQ.explain()\n",
    "sqlQ.explain()"
   ]
  },
  {
   "cell_type": "code",
   "execution_count": 11,
   "metadata": {},
   "outputs": [],
   "source": [
    "spark.stop()"
   ]
  }
 ],
 "metadata": {
  "kernelspec": {
   "display_name": "Python 3",
   "language": "python",
   "name": "python3"
  },
  "language_info": {
   "codemirror_mode": {
    "name": "ipython",
    "version": 3
   },
   "file_extension": ".py",
   "mimetype": "text/x-python",
   "name": "python",
   "nbconvert_exporter": "python",
   "pygments_lexer": "ipython3",
   "version": "3.7.6"
  }
 },
 "nbformat": 4,
 "nbformat_minor": 4
}
