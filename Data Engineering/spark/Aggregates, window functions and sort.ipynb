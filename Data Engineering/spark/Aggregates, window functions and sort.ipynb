{
 "cells": [
  {
   "cell_type": "code",
   "execution_count": 1,
   "metadata": {},
   "outputs": [],
   "source": [
    "import os\n",
    "from pyspark.sql import SparkSession\n",
    "import pyspark.sql.functions as F\n",
    "\n",
    "os.environ[\"SPARK_HOME\"] = \"/usr/local/spark\"\n",
    "os.environ[\"PYSPARK_PYTHON\"] = \"/home/pigidser/anaconda3/bin/python3\"\n",
    "os.environ[\"PYSPARK_DRIVER_PYTHON\"] = \"python3\"\n",
    "os.environ[\"PYSPARK_SUBMIT_ARGS\"] = \"pyspark-shell\"\n",
    "\n",
    "spark = SparkSession.builder.master(\"local\").appName(\"spark_test\").getOrCreate()"
   ]
  },
  {
   "cell_type": "code",
   "execution_count": 2,
   "metadata": {},
   "outputs": [],
   "source": [
    "# load dataframe\n",
    "cdf = spark.read.format(\"csv\") \\\n",
    "    .option(\"mode\", \"FAILFAST\") \\\n",
    "    .option(\"inferSchema\", \"true\") \\\n",
    "    .option(\"header\",\"true\") \\\n",
    "    .option(\"path\", \"countries_of_the_world.csv\") \\\n",
    "    .load()"
   ]
  },
  {
   "cell_type": "code",
   "execution_count": 13,
   "metadata": {},
   "outputs": [
    {
     "name": "stdout",
     "output_type": "stream",
     "text": [
      "+-------------+\n",
      "|MaxPopulation|\n",
      "+-------------+\n",
      "|   1313973713|\n",
      "+-------------+\n",
      "\n"
     ]
    }
   ],
   "source": [
    "cdf.select(F.max(\"Population\").alias(\"MaxPopulation\")).show()"
   ]
  },
  {
   "cell_type": "code",
   "execution_count": 14,
   "metadata": {},
   "outputs": [
    {
     "name": "stdout",
     "output_type": "stream",
     "text": [
      "+--------------------+---------------+\n",
      "|              Region|max(Population)|\n",
      "+--------------------+---------------+\n",
      "|BALTICS          ...|        3585906|\n",
      "|C.W. OF IND. STATES |      142893540|\n",
      "|ASIA (EX. NEAR EA...|     1313973713|\n",
      "|WESTERN EUROPE   ...|       82422299|\n",
      "|NORTHERN AMERICA ...|      298444215|\n",
      "|NEAR EAST        ...|       70413958|\n",
      "|EASTERN EUROPE   ...|       38536869|\n",
      "|OCEANIA          ...|       20264082|\n",
      "|SUB-SAHARAN AFRIC...|      131859731|\n",
      "|NORTHERN AFRICA  ...|       78887007|\n",
      "|LATIN AMER. & CAR...|      188078227|\n",
      "+--------------------+---------------+\n",
      "\n"
     ]
    }
   ],
   "source": [
    "# groupBy\n",
    "# Посмотрим агрегат в разбивке по колонке (используем groupBy())\n",
    "\n",
    "cdf.groupBy(\"Region\").max(\"Population\").show()"
   ]
  },
  {
   "cell_type": "code",
   "execution_count": 15,
   "metadata": {},
   "outputs": [
    {
     "name": "stdout",
     "output_type": "stream",
     "text": [
      "+--------------------+-------------+\n",
      "|              Region|MaxPopulation|\n",
      "+--------------------+-------------+\n",
      "|BALTICS          ...|      3585906|\n",
      "|C.W. OF IND. STATES |    142893540|\n",
      "|ASIA (EX. NEAR EA...|   1313973713|\n",
      "|WESTERN EUROPE   ...|     82422299|\n",
      "|NORTHERN AMERICA ...|    298444215|\n",
      "|NEAR EAST        ...|     70413958|\n",
      "|EASTERN EUROPE   ...|     38536869|\n",
      "|OCEANIA          ...|     20264082|\n",
      "|SUB-SAHARAN AFRIC...|    131859731|\n",
      "|NORTHERN AFRICA  ...|     78887007|\n",
      "|LATIN AMER. & CAR...|    188078227|\n",
      "+--------------------+-------------+\n",
      "\n"
     ]
    }
   ],
   "source": [
    "# Оконная функция\n",
    "# Сделаем то же самое, но с использованием оконной функции.\n",
    "\n",
    "from pyspark.sql.window import Window\n",
    "\n",
    "windowSpec = Window.partitionBy(\"Region\")\n",
    "cdf.select(\"Region\",F.max(\"Population\").over(windowSpec).alias(\"MaxPopulation\")).distinct().show()"
   ]
  },
  {
   "cell_type": "code",
   "execution_count": 18,
   "metadata": {},
   "outputs": [
    {
     "name": "stdout",
     "output_type": "stream",
     "text": [
      "+--------------------+-------------+\n",
      "|              Region|MaxPopulation|\n",
      "+--------------------+-------------+\n",
      "|ASIA (EX. NEAR EA...|   1313973713|\n",
      "|NORTHERN AMERICA ...|    298444215|\n",
      "|LATIN AMER. & CAR...|    188078227|\n",
      "|C.W. OF IND. STATES |    142893540|\n",
      "|SUB-SAHARAN AFRIC...|    131859731|\n",
      "|WESTERN EUROPE   ...|     82422299|\n",
      "|NORTHERN AFRICA  ...|     78887007|\n",
      "|NEAR EAST        ...|     70413958|\n",
      "|EASTERN EUROPE   ...|     38536869|\n",
      "|OCEANIA          ...|     20264082|\n",
      "|BALTICS          ...|      3585906|\n",
      "+--------------------+-------------+\n",
      "\n"
     ]
    }
   ],
   "source": [
    "# Сортировка\n",
    "# Упорядочим предыдущий результат по убыванию максимального населения\n",
    "\n",
    "cdf.select(\"Region\",F.max(\"Population\").over(windowSpec).alias(\"MaxPopulation\"))\\\n",
    "    .distinct().sort(F.desc(\"MaxPopulation\")).show()"
   ]
  },
  {
   "cell_type": "code",
   "execution_count": 22,
   "metadata": {},
   "outputs": [
    {
     "name": "stdout",
     "output_type": "stream",
     "text": [
      "+---------------------+-----------------------------------+----------+-----+\n",
      "|Country              |Region                             |Population|which|\n",
      "+---------------------+-----------------------------------+----------+-----+\n",
      "|China                |ASIA (EX. NEAR EAST)               |1313973713|MAX  |\n",
      "|United States        |NORTHERN AMERICA                   |298444215 |MAX  |\n",
      "|Brazil               |LATIN AMER. & CARIB                |188078227 |MAX  |\n",
      "|Russia               |C.W. OF IND. STATES                |142893540 |MAX  |\n",
      "|Nigeria              |SUB-SAHARAN AFRICA                 |131859731 |MAX  |\n",
      "|Germany              |WESTERN EUROPE                     |82422299  |MAX  |\n",
      "|Egypt                |NORTHERN AFRICA                    |78887007  |MAX  |\n",
      "|Turkey               |NEAR EAST                          |70413958  |MAX  |\n",
      "|Poland               |EASTERN EUROPE                     |38536869  |MAX  |\n",
      "|Australia            |OCEANIA                            |20264082  |MAX  |\n",
      "|Lithuania            |BALTICS                            |3585906   |MAX  |\n",
      "|Armenia              |C.W. OF IND. STATES                |2976372   |MIN  |\n",
      "|Slovenia             |EASTERN EUROPE                     |2010347   |MIN  |\n",
      "|Estonia              |BALTICS                            |1324333   |MIN  |\n",
      "|Bahrain              |NEAR EAST                          |698585    |MIN  |\n",
      "|Maldives             |ASIA (EX. NEAR EAST)               |359008    |MIN  |\n",
      "|Western Sahara       |NORTHERN AFRICA                    |273008    |MIN  |\n",
      "|Gibraltar            |WESTERN EUROPE                     |27928     |MIN  |\n",
      "|Tuvalu               |OCEANIA                            |11810     |MIN  |\n",
      "|Montserrat           |LATIN AMER. & CARIB                |9439      |MIN  |\n",
      "|Saint Helena         |SUB-SAHARAN AFRICA                 |7502      |MIN  |\n",
      "|St Pierre & Miquelon |NORTHERN AMERICA                   |7026      |MIN  |\n",
      "+---------------------+-----------------------------------+----------+-----+\n",
      "\n"
     ]
    }
   ],
   "source": [
    "# Минимум или максимум\n",
    "# найдем страны с минимальным и максимальным населением в регионах\n",
    "# Комментарии:\n",
    "# - оконная функция просто группирует по региону\n",
    "# - добавляем колонки с минимальным и максимальным населением по региону (minp, maxp)\n",
    "# - оставляем в датафрейме только страны, население которых самое маленькое или большое (используем expr)\n",
    "# - добавляем колонку which, в которую записываем - какая это страна (с минимальным или максимальным населением, используем функции when().otherwise()\n",
    "# - удалим неинтересные нам колонки (select())\n",
    "# - упорядочим - покажем сначала самые большие страны, потом - самые маленькие (по убыванию населения)\n",
    "\n",
    "wr = Window.partitionBy('Region')\n",
    "cdf.withColumn('minp', F.min('Population').over(wr))\\\n",
    "    .withColumn('maxp', F.max('Population').over(wr))\\\n",
    "    .where((F.expr('Population==minp or Population==maxp')))\\\n",
    "    .withColumn(\"which\",F.when(F.expr(\"Population==minp\"),'MIN').otherwise('MAX'))\\\n",
    "    .select(\"Country\",\"Region\",\"Population\",\"which\")\\\n",
    "    .sort(\"which\",F.desc(\"Population\"))\\\n",
    "    .show(50, truncate=False)"
   ]
  },
  {
   "cell_type": "code",
   "execution_count": 23,
   "metadata": {},
   "outputs": [],
   "source": [
    "spark.stop()"
   ]
  }
 ],
 "metadata": {
  "kernelspec": {
   "display_name": "Python 3",
   "language": "python",
   "name": "python3"
  },
  "language_info": {
   "codemirror_mode": {
    "name": "ipython",
    "version": 3
   },
   "file_extension": ".py",
   "mimetype": "text/x-python",
   "name": "python",
   "nbconvert_exporter": "python",
   "pygments_lexer": "ipython3",
   "version": "3.7.6"
  }
 },
 "nbformat": 4,
 "nbformat_minor": 4
}
