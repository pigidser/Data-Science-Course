{
 "cells": [
  {
   "cell_type": "code",
   "execution_count": 1,
   "metadata": {},
   "outputs": [],
   "source": [
    "import os\n",
    "from pyspark.sql import SparkSession\n",
    "import pyspark.sql.functions as F\n",
    "\n",
    "os.environ[\"SPARK_HOME\"] = \"/usr/local/spark\"\n",
    "os.environ[\"PYSPARK_PYTHON\"] = \"/home/pigidser/anaconda3/bin/python3\"\n",
    "os.environ[\"PYSPARK_DRIVER_PYTHON\"] = \"python3\"\n",
    "os.environ[\"PYSPARK_SUBMIT_ARGS\"] = \"pyspark-shell\"\n",
    "\n",
    "spark = SparkSession.builder.master(\"local\").appName(\"spark_test\").getOrCreate()"
   ]
  },
  {
   "cell_type": "code",
   "execution_count": 2,
   "metadata": {},
   "outputs": [],
   "source": [
    "# load dataframe\n",
    "cdf = spark.read.format(\"csv\") \\\n",
    "    .option(\"mode\", \"FAILFAST\") \\\n",
    "    .option(\"inferSchema\", \"true\") \\\n",
    "    .option(\"header\",\"true\") \\\n",
    "    .option(\"path\", \"countries_of_the_world.csv\") \\\n",
    "    .load()"
   ]
  },
  {
   "cell_type": "code",
   "execution_count": 3,
   "metadata": {},
   "outputs": [
    {
     "name": "stdout",
     "output_type": "stream",
     "text": [
      "root\n",
      " |-- Country: string (nullable = true)\n",
      " |-- Region: string (nullable = true)\n",
      " |-- Population: integer (nullable = true)\n",
      " |-- Area (sq. mi.): integer (nullable = true)\n",
      " |-- Pop. Density (per sq. mi.): string (nullable = true)\n",
      " |-- Coastline (coast/area ratio): string (nullable = true)\n",
      " |-- Net migration: string (nullable = true)\n",
      " |-- Infant mortality (per 1000 births): string (nullable = true)\n",
      " |-- GDP ($ per capita): integer (nullable = true)\n",
      " |-- Literacy (%): string (nullable = true)\n",
      " |-- Phones (per 1000): string (nullable = true)\n",
      " |-- Arable (%): string (nullable = true)\n",
      " |-- Crops (%): string (nullable = true)\n",
      " |-- Other (%): string (nullable = true)\n",
      " |-- Climate: string (nullable = true)\n",
      " |-- Birthrate: string (nullable = true)\n",
      " |-- Deathrate: string (nullable = true)\n",
      " |-- Agriculture: string (nullable = true)\n",
      " |-- Industry: string (nullable = true)\n",
      " |-- Service: string (nullable = true)\n",
      "\n"
     ]
    }
   ],
   "source": [
    "# show schema\n",
    "cdf.printSchema()"
   ]
  },
  {
   "cell_type": "code",
   "execution_count": 7,
   "metadata": {},
   "outputs": [
    {
     "data": {
      "text/plain": [
       "['Country',\n",
       " 'Region',\n",
       " 'Population',\n",
       " 'Area (sq. mi.)',\n",
       " 'Pop. Density (per sq. mi.)',\n",
       " 'Coastline (coast/area ratio)',\n",
       " 'Net migration',\n",
       " 'Infant mortality (per 1000 births)',\n",
       " 'GDP ($ per capita)',\n",
       " 'Literacy (%)',\n",
       " 'Phones (per 1000)',\n",
       " 'Arable (%)',\n",
       " 'Crops (%)',\n",
       " 'Other (%)',\n",
       " 'Climate',\n",
       " 'Birthrate',\n",
       " 'Deathrate',\n",
       " 'Agriculture',\n",
       " 'Industry',\n",
       " 'Service']"
      ]
     },
     "execution_count": 7,
     "metadata": {},
     "output_type": "execute_result"
    }
   ],
   "source": [
    "# list of columns\n",
    "cdf.columns"
   ]
  },
  {
   "cell_type": "code",
   "execution_count": 16,
   "metadata": {},
   "outputs": [
    {
     "name": "stdout",
     "output_type": "stream",
     "text": [
      "+-------+------------+--------------------+--------------------+------------------+--------------------------+----------------------------+--------------------+----------------------------------+------------------+------------+-----------------+------------------+------------------+------------------+------------------+------------------+---------+-----------+--------+-------+\n",
      "|summary|     Country|              Region|          Population|    Area (sq. mi.)|Pop. Density (per sq. mi.)|Coastline (coast/area ratio)|       Net migration|Infant mortality (per 1000 births)|GDP ($ per capita)|Literacy (%)|Phones (per 1000)|        Arable (%)|         Crops (%)|         Other (%)|           Climate|         Birthrate|Deathrate|Agriculture|Industry|Service|\n",
      "+-------+------------+--------------------+--------------------+------------------+--------------------------+----------------------------+--------------------+----------------------------------+------------------+------------+-----------------+------------------+------------------+------------------+------------------+------------------+---------+-----------+--------+-------+\n",
      "|  count|         227|                 227|                 227|               227|                       227|                         227|                 224|                               224|               226|         209|              223|               225|               225|               225|               205|               224|      223|        212|     211|    212|\n",
      "|   mean|        null|                null|2.8740284365638766E7| 598226.9559471365|                      null|                        null|0.031746031746031744|                              56.5| 9689.823008849558|        null|             null| 8.842105263157896|1.9090909090909092| 86.57894736842105|2.1597938144329896|              21.0|     22.0|        0.0|    null|   null|\n",
      "| stddev|        null|                null|1.1789132654347657E8|1790282.2437336047|                      null|                        null|  0.2519763153394848|                 36.78314831549904|10049.138513197226|        null|             null|10.128415242358372| 5.954849055410831|14.633734958321792|0.7054429092420468|11.853269591129697|      NaN|        NaN|    null|   null|\n",
      "|    min|Afghanistan |ASIA (EX. NEAR EA...|                7026|                 2|                       0,0|                        0,00|               -0,02|                             10,03|               500|       100,0|              0,2|                 0|                 0|               100|                 1|                10|    10,01|          0|    0,02|  0,062|\n",
      "|    max|   Zimbabwe |WESTERN EUROPE   ...|          1313973713|          17075200|                      99,9|                       92,31|                9,61|                              98,8|             55100|        99,9|             97,7|              9,75|              9,87|             99,98|                 4|              9,95|     9,89|      0,769|   0,906|  0,954|\n",
      "+-------+------------+--------------------+--------------------+------------------+--------------------------+----------------------------+--------------------+----------------------------------+------------------+------------+-----------------+------------------+------------------+------------------+------------------+------------------+---------+-----------+--------+-------+\n",
      "\n"
     ]
    }
   ],
   "source": [
    "cdf.describe().show()"
   ]
  },
  {
   "cell_type": "code",
   "execution_count": 17,
   "metadata": {},
   "outputs": [
    {
     "data": {
      "text/plain": [
       "DataFrame[Country: string, Region: string, Population: int]"
      ]
     },
     "execution_count": 17,
     "metadata": {},
     "output_type": "execute_result"
    }
   ],
   "source": [
    "# filter columns\n",
    "cdf.select('Country','Region','Population')"
   ]
  },
  {
   "cell_type": "code",
   "execution_count": 22,
   "metadata": {},
   "outputs": [
    {
     "name": "stdout",
     "output_type": "stream",
     "text": [
      "+------------+-----------------------------------+----------+----------------------------------------------+\n",
      "|Country     |Region                             |Population|CountryIn                                     |\n",
      "+------------+-----------------------------------+----------+----------------------------------------------+\n",
      "|Afghanistan |ASIA (EX. NEAR EAST)               |31056997  |Afghanistan in ASIA (EX. NEAR EAST)           |\n",
      "|Albania     |EASTERN EUROPE                     |3581655   |Albania in EASTERN EUROPE                     |\n",
      "|Algeria     |NORTHERN AFRICA                    |32930091  |Algeria in NORTHERN AFRICA                    |\n",
      "+------------+-----------------------------------+----------+----------------------------------------------+\n",
      "only showing top 3 rows\n",
      "\n"
     ]
    }
   ],
   "source": [
    "# create a new column as concatenation of two others\n",
    "cdf.selectExpr('Country','Region','Population','concat(Country,\"in \",Region) as CountryIn').show(3, truncate=False)"
   ]
  },
  {
   "cell_type": "code",
   "execution_count": 25,
   "metadata": {},
   "outputs": [
    {
     "data": {
      "text/plain": [
       "['Area (sq. mi.)',\n",
       " 'Pop. Density (per sq. mi.)',\n",
       " 'Coastline (coast/area ratio)',\n",
       " 'Net migration',\n",
       " 'Infant mortality (per 1000 births)',\n",
       " 'GDP ($ per capita)',\n",
       " 'Literacy (%)',\n",
       " 'Phones (per 1000)',\n",
       " 'Arable (%)',\n",
       " 'Crops (%)',\n",
       " 'Other (%)',\n",
       " 'Climate',\n",
       " 'Birthrate',\n",
       " 'Deathrate',\n",
       " 'Agriculture',\n",
       " 'Industry',\n",
       " 'Service']"
      ]
     },
     "execution_count": 25,
     "metadata": {},
     "output_type": "execute_result"
    }
   ],
   "source": [
    "# drop columns\n",
    "cdf.drop('Country','Region','Population').columns"
   ]
  },
  {
   "cell_type": "code",
   "execution_count": 29,
   "metadata": {},
   "outputs": [
    {
     "data": {
      "text/plain": [
       "['Country', 'Region', 'Population', 'ONE']"
      ]
     },
     "execution_count": 29,
     "metadata": {},
     "output_type": "execute_result"
    }
   ],
   "source": [
    "# add a new column with a static text\n",
    "import pyspark.sql.functions as F\n",
    "cdf.select('Country','Region','Population').withColumn(\"ONE\",F.lit(1)).columns"
   ]
  },
  {
   "cell_type": "code",
   "execution_count": 31,
   "metadata": {},
   "outputs": [
    {
     "data": {
      "text/plain": [
       "['Country',\n",
       " 'Region',\n",
       " 'Population',\n",
       " 'AREA',\n",
       " 'Pop. Density (per sq. mi.)',\n",
       " 'Coastline (coast/area ratio)',\n",
       " 'Net migration',\n",
       " 'Infant mortality (per 1000 births)',\n",
       " 'GDP ($ per capita)',\n",
       " 'Literacy (%)',\n",
       " 'Phones (per 1000)',\n",
       " 'Arable (%)',\n",
       " 'Crops (%)',\n",
       " 'Other (%)',\n",
       " 'Climate',\n",
       " 'Birthrate',\n",
       " 'Deathrate',\n",
       " 'Agriculture',\n",
       " 'Industry',\n",
       " 'Service']"
      ]
     },
     "execution_count": 31,
     "metadata": {},
     "output_type": "execute_result"
    }
   ],
   "source": [
    "# rename a column\n",
    "cdf.withColumnRenamed('Area (sq. mi.)','AREA').columns"
   ]
  },
  {
   "cell_type": "code",
   "execution_count": 35,
   "metadata": {},
   "outputs": [
    {
     "name": "stdout",
     "output_type": "stream",
     "text": [
      "+--------+--------------------+\n",
      "| Country|              Region|\n",
      "+--------+--------------------+\n",
      "|  Aruba |LATIN AMER. & CAR...|\n",
      "|Belarus |C.W. OF IND. STATES |\n",
      "| Brunei |ASIA (EX. NEAR EA...|\n",
      "|Burundi |SUB-SAHARAN AFRIC...|\n",
      "| Cyprus |NEAR EAST        ...|\n",
      "|  Nauru |OCEANIA          ...|\n",
      "|   Peru |LATIN AMER. & CAR...|\n",
      "|Uruguay |LATIN AMER. & CAR...|\n",
      "+--------+--------------------+\n",
      "\n"
     ]
    }
   ],
   "source": [
    "# filter rows (contains, startsWith)\n",
    "cdf.select('Country','Region').filter(F.col('Country').contains('ru')).show()"
   ]
  },
  {
   "cell_type": "code",
   "execution_count": 39,
   "metadata": {},
   "outputs": [
    {
     "name": "stdout",
     "output_type": "stream",
     "text": [
      "+---+---+---+\n",
      "| id|ONE|TWO|\n",
      "+---+---+---+\n",
      "|  0|  1|  2|\n",
      "|  1|  1|  2|\n",
      "|  2|  1|  2|\n",
      "|  3|  1|  2|\n",
      "|  4|  1|  2|\n",
      "|  5|  1|  2|\n",
      "|  6|  1|  2|\n",
      "|  7|  1|  2|\n",
      "|  8|  1|  2|\n",
      "|  9|  1|  2|\n",
      "+---+---+---+\n",
      "\n"
     ]
    }
   ],
   "source": [
    "# create a simple DataFrame\n",
    "df = spark.range(10).withColumn(\"ONE\",F.lit(1)).withColumn(\"TWO\",F.lit(2)).show()"
   ]
  },
  {
   "cell_type": "code",
   "execution_count": 40,
   "metadata": {},
   "outputs": [
    {
     "name": "stdout",
     "output_type": "stream",
     "text": [
      "+-----------------------------------+\n",
      "|Region                             |\n",
      "+-----------------------------------+\n",
      "|BALTICS                            |\n",
      "|C.W. OF IND. STATES                |\n",
      "|ASIA (EX. NEAR EAST)               |\n",
      "|WESTERN EUROPE                     |\n",
      "|NORTHERN AMERICA                   |\n",
      "|NEAR EAST                          |\n",
      "|EASTERN EUROPE                     |\n",
      "|OCEANIA                            |\n",
      "|SUB-SAHARAN AFRICA                 |\n",
      "|NORTHERN AFRICA                    |\n",
      "|LATIN AMER. & CARIB                |\n",
      "+-----------------------------------+\n",
      "\n"
     ]
    }
   ],
   "source": [
    "# show unique values\n",
    "cdf.select('Region').distinct().show(truncate=False)"
   ]
  },
  {
   "cell_type": "code",
   "execution_count": 41,
   "metadata": {},
   "outputs": [
    {
     "name": "stdout",
     "output_type": "stream",
     "text": [
      "+-----------------------------------+---+\n",
      "|Region                             |len|\n",
      "+-----------------------------------+---+\n",
      "|BALTICS                            |35 |\n",
      "|C.W. OF IND. STATES                |20 |\n",
      "|ASIA (EX. NEAR EAST)               |29 |\n",
      "|WESTERN EUROPE                     |35 |\n",
      "|NORTHERN AMERICA                   |35 |\n",
      "|NEAR EAST                          |35 |\n",
      "|EASTERN EUROPE                     |35 |\n",
      "|OCEANIA                            |35 |\n",
      "|SUB-SAHARAN AFRICA                 |35 |\n",
      "|NORTHERN AFRICA                    |35 |\n",
      "|LATIN AMER. & CARIB                |23 |\n",
      "+-----------------------------------+---+\n",
      "\n"
     ]
    }
   ],
   "source": [
    "# length of a column\n",
    "cdf.select('Region').distinct().withColumn('len',F.length('Region')).show(100,truncate=False)"
   ]
  },
  {
   "cell_type": "code",
   "execution_count": 44,
   "metadata": {},
   "outputs": [
    {
     "name": "stdout",
     "output_type": "stream",
     "text": [
      "+---+------------------+-------------------+\n",
      "| ID|           Country|            RegCode|\n",
      "+---+------------------+-------------------+\n",
      "|  0|      Afghanistan |                ASA|\n",
      "|  1|          Albania |     EASTERN EUROPE|\n",
      "|  2|          Algeria |    NORTHERN AFRICA|\n",
      "|  3|   American Samoa |                OCN|\n",
      "|  4|          Andorra |     WESTERN EUROPE|\n",
      "|  5|           Angola | SUB-SAHARAN AFRICA|\n",
      "|  6|         Anguilla |LATIN AMER. & CARIB|\n",
      "|  7|Antigua & Barbuda |LATIN AMER. & CARIB|\n",
      "|  8|        Argentina |LATIN AMER. & CARIB|\n",
      "|  9|          Armenia |C.W. OF IND. STATES|\n",
      "| 10|            Aruba |LATIN AMER. & CARIB|\n",
      "| 11|        Australia |                OCN|\n",
      "| 12|          Austria |     WESTERN EUROPE|\n",
      "| 13|       Azerbaijan |C.W. OF IND. STATES|\n",
      "| 14|     Bahamas, The |LATIN AMER. & CARIB|\n",
      "| 15|          Bahrain |          NEAR EAST|\n",
      "| 16|       Bangladesh |                ASA|\n",
      "| 17|         Barbados |LATIN AMER. & CARIB|\n",
      "| 18|          Belarus |C.W. OF IND. STATES|\n",
      "| 19|          Belgium |     WESTERN EUROPE|\n",
      "+---+------------------+-------------------+\n",
      "only showing top 20 rows\n",
      "\n"
     ]
    }
   ],
   "source": [
    "# monotonically_increasing_id(), alias(), replace()\n",
    "regRepl = { 'OCEANIA': 'OCN', 'ASIA (EX. NEAR EAST)': 'ASA' }\n",
    "cdf.select(F.monotonically_increasing_id().alias('ID'),'Country',F.expr('rtrim(Region) as RegCode')) \\\n",
    "    .replace(regRepl,None,'RegCode') \\\n",
    "    .show()"
   ]
  },
  {
   "cell_type": "code",
   "execution_count": 45,
   "metadata": {},
   "outputs": [],
   "source": [
    "spark.stop()"
   ]
  }
 ],
 "metadata": {
  "kernelspec": {
   "display_name": "Python 3",
   "language": "python",
   "name": "python3"
  },
  "language_info": {
   "codemirror_mode": {
    "name": "ipython",
    "version": 3
   },
   "file_extension": ".py",
   "mimetype": "text/x-python",
   "name": "python",
   "nbconvert_exporter": "python",
   "pygments_lexer": "ipython3",
   "version": "3.7.6"
  }
 },
 "nbformat": 4,
 "nbformat_minor": 4
}
